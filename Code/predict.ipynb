{
 "cells": [
  {
   "cell_type": "code",
   "execution_count": 32,
   "metadata": {
    "collapsed": true
   },
   "outputs": [],
   "source": [
    "import pandas as pd\n",
    "pd.set_option('display.max_columns',None)\n",
    "from sklearn.linear_model import LogisticRegression\n",
    "from sklearn.model_selection import train_test_split\n",
    "import pickle"
   ]
  },
  {
   "cell_type": "code",
   "execution_count": 33,
   "outputs": [
    {
     "name": "stdout",
     "output_type": "stream",
     "text": [
      "         diagnosis  radius_mean  texture_mean  perimeter_mean  area_mean  \\\n",
      "id                                                                         \n",
      "842302           M        17.99         10.38          122.80     1001.0   \n",
      "842517           M        20.57         17.77          132.90     1326.0   \n",
      "84300903         M        19.69         21.25          130.00     1203.0   \n",
      "84348301         M        11.42         20.38           77.58      386.1   \n",
      "84358402         M        20.29         14.34          135.10     1297.0   \n",
      "\n",
      "          smoothness_mean  compactness_mean  concavity_mean  \\\n",
      "id                                                            \n",
      "842302            0.11840           0.27760          0.3001   \n",
      "842517            0.08474           0.07864          0.0869   \n",
      "84300903          0.10960           0.15990          0.1974   \n",
      "84348301          0.14250           0.28390          0.2414   \n",
      "84358402          0.10030           0.13280          0.1980   \n",
      "\n",
      "          concave points_mean  symmetry_mean  fractal_dimension_mean  \\\n",
      "id                                                                     \n",
      "842302                0.14710         0.2419                 0.07871   \n",
      "842517                0.07017         0.1812                 0.05667   \n",
      "84300903              0.12790         0.2069                 0.05999   \n",
      "84348301              0.10520         0.2597                 0.09744   \n",
      "84358402              0.10430         0.1809                 0.05883   \n",
      "\n",
      "          radius_se  texture_se  perimeter_se  area_se  smoothness_se  \\\n",
      "id                                                                      \n",
      "842302       1.0950      0.9053         8.589   153.40       0.006399   \n",
      "842517       0.5435      0.7339         3.398    74.08       0.005225   \n",
      "84300903     0.7456      0.7869         4.585    94.03       0.006150   \n",
      "84348301     0.4956      1.1560         3.445    27.23       0.009110   \n",
      "84358402     0.7572      0.7813         5.438    94.44       0.011490   \n",
      "\n",
      "          compactness_se  concavity_se  concave points_se  symmetry_se  \\\n",
      "id                                                                       \n",
      "842302           0.04904       0.05373            0.01587      0.03003   \n",
      "842517           0.01308       0.01860            0.01340      0.01389   \n",
      "84300903         0.04006       0.03832            0.02058      0.02250   \n",
      "84348301         0.07458       0.05661            0.01867      0.05963   \n",
      "84358402         0.02461       0.05688            0.01885      0.01756   \n",
      "\n",
      "          fractal_dimension_se  radius_worst  texture_worst  perimeter_worst  \\\n",
      "id                                                                             \n",
      "842302                0.006193         25.38          17.33           184.60   \n",
      "842517                0.003532         24.99          23.41           158.80   \n",
      "84300903              0.004571         23.57          25.53           152.50   \n",
      "84348301              0.009208         14.91          26.50            98.87   \n",
      "84358402              0.005115         22.54          16.67           152.20   \n",
      "\n",
      "          area_worst  smoothness_worst  compactness_worst  concavity_worst  \\\n",
      "id                                                                           \n",
      "842302        2019.0            0.1622             0.6656           0.7119   \n",
      "842517        1956.0            0.1238             0.1866           0.2416   \n",
      "84300903      1709.0            0.1444             0.4245           0.4504   \n",
      "84348301       567.7            0.2098             0.8663           0.6869   \n",
      "84358402      1575.0            0.1374             0.2050           0.4000   \n",
      "\n",
      "          concave points_worst  symmetry_worst  fractal_dimension_worst  \\\n",
      "id                                                                        \n",
      "842302                  0.2654          0.4601                  0.11890   \n",
      "842517                  0.1860          0.2750                  0.08902   \n",
      "84300903                0.2430          0.3613                  0.08758   \n",
      "84348301                0.2575          0.6638                  0.17300   \n",
      "84358402                0.1625          0.2364                  0.07678   \n",
      "\n",
      "          Unnamed: 32  \n",
      "id                     \n",
      "842302            NaN  \n",
      "842517            NaN  \n",
      "84300903          NaN  \n",
      "84348301          NaN  \n",
      "84358402          NaN  \n",
      "<class 'pandas.core.frame.DataFrame'>\n",
      "Int64Index: 569 entries, 842302 to 92751\n",
      "Data columns (total 32 columns):\n",
      " #   Column                   Non-Null Count  Dtype  \n",
      "---  ------                   --------------  -----  \n",
      " 0   diagnosis                569 non-null    object \n",
      " 1   radius_mean              569 non-null    float64\n",
      " 2   texture_mean             569 non-null    float64\n",
      " 3   perimeter_mean           569 non-null    float64\n",
      " 4   area_mean                569 non-null    float64\n",
      " 5   smoothness_mean          569 non-null    float64\n",
      " 6   compactness_mean         569 non-null    float64\n",
      " 7   concavity_mean           569 non-null    float64\n",
      " 8   concave points_mean      569 non-null    float64\n",
      " 9   symmetry_mean            569 non-null    float64\n",
      " 10  fractal_dimension_mean   569 non-null    float64\n",
      " 11  radius_se                569 non-null    float64\n",
      " 12  texture_se               569 non-null    float64\n",
      " 13  perimeter_se             569 non-null    float64\n",
      " 14  area_se                  569 non-null    float64\n",
      " 15  smoothness_se            569 non-null    float64\n",
      " 16  compactness_se           569 non-null    float64\n",
      " 17  concavity_se             569 non-null    float64\n",
      " 18  concave points_se        569 non-null    float64\n",
      " 19  symmetry_se              569 non-null    float64\n",
      " 20  fractal_dimension_se     569 non-null    float64\n",
      " 21  radius_worst             569 non-null    float64\n",
      " 22  texture_worst            569 non-null    float64\n",
      " 23  perimeter_worst          569 non-null    float64\n",
      " 24  area_worst               569 non-null    float64\n",
      " 25  smoothness_worst         569 non-null    float64\n",
      " 26  compactness_worst        569 non-null    float64\n",
      " 27  concavity_worst          569 non-null    float64\n",
      " 28  concave points_worst     569 non-null    float64\n",
      " 29  symmetry_worst           569 non-null    float64\n",
      " 30  fractal_dimension_worst  569 non-null    float64\n",
      " 31  Unnamed: 32              0 non-null      float64\n",
      "dtypes: float64(31), object(1)\n",
      "memory usage: 146.7+ KB\n",
      "None\n"
     ]
    }
   ],
   "source": [
    "# Data exploring\n",
    "df = pd.read_csv('E:\\Semester\\FDM\\Project\\data\\data.csv', index_col = 0)\n",
    "print(df.head())\n",
    "print(df.info())"
   ],
   "metadata": {
    "collapsed": false,
    "pycharm": {
     "name": "#%%\n"
    }
   }
  },
  {
   "cell_type": "code",
   "execution_count": 34,
   "outputs": [
    {
     "name": "stdout",
     "output_type": "stream",
     "text": [
      "         diagnosis  radius_mean  texture_mean  perimeter_mean  area_mean  \\\n",
      "id                                                                         \n",
      "842302           M        17.99         10.38          122.80     1001.0   \n",
      "842517           M        20.57         17.77          132.90     1326.0   \n",
      "84300903         M        19.69         21.25          130.00     1203.0   \n",
      "84348301         M        11.42         20.38           77.58      386.1   \n",
      "84358402         M        20.29         14.34          135.10     1297.0   \n",
      "...            ...          ...           ...             ...        ...   \n",
      "926424           M        21.56         22.39          142.00     1479.0   \n",
      "926682           M        20.13         28.25          131.20     1261.0   \n",
      "926954           M        16.60         28.08          108.30      858.1   \n",
      "927241           M        20.60         29.33          140.10     1265.0   \n",
      "92751            B         7.76         24.54           47.92      181.0   \n",
      "\n",
      "          smoothness_mean  compactness_mean  concavity_mean  \\\n",
      "id                                                            \n",
      "842302            0.11840           0.27760         0.30010   \n",
      "842517            0.08474           0.07864         0.08690   \n",
      "84300903          0.10960           0.15990         0.19740   \n",
      "84348301          0.14250           0.28390         0.24140   \n",
      "84358402          0.10030           0.13280         0.19800   \n",
      "...                   ...               ...             ...   \n",
      "926424            0.11100           0.11590         0.24390   \n",
      "926682            0.09780           0.10340         0.14400   \n",
      "926954            0.08455           0.10230         0.09251   \n",
      "927241            0.11780           0.27700         0.35140   \n",
      "92751             0.05263           0.04362         0.00000   \n",
      "\n",
      "          concave points_mean  symmetry_mean  fractal_dimension_mean  \\\n",
      "id                                                                     \n",
      "842302                0.14710         0.2419                 0.07871   \n",
      "842517                0.07017         0.1812                 0.05667   \n",
      "84300903              0.12790         0.2069                 0.05999   \n",
      "84348301              0.10520         0.2597                 0.09744   \n",
      "84358402              0.10430         0.1809                 0.05883   \n",
      "...                       ...            ...                     ...   \n",
      "926424                0.13890         0.1726                 0.05623   \n",
      "926682                0.09791         0.1752                 0.05533   \n",
      "926954                0.05302         0.1590                 0.05648   \n",
      "927241                0.15200         0.2397                 0.07016   \n",
      "92751                 0.00000         0.1587                 0.05884   \n",
      "\n",
      "          radius_se  texture_se  perimeter_se  area_se  smoothness_se  \\\n",
      "id                                                                      \n",
      "842302       1.0950      0.9053         8.589   153.40       0.006399   \n",
      "842517       0.5435      0.7339         3.398    74.08       0.005225   \n",
      "84300903     0.7456      0.7869         4.585    94.03       0.006150   \n",
      "84348301     0.4956      1.1560         3.445    27.23       0.009110   \n",
      "84358402     0.7572      0.7813         5.438    94.44       0.011490   \n",
      "...             ...         ...           ...      ...            ...   \n",
      "926424       1.1760      1.2560         7.673   158.70       0.010300   \n",
      "926682       0.7655      2.4630         5.203    99.04       0.005769   \n",
      "926954       0.4564      1.0750         3.425    48.55       0.005903   \n",
      "927241       0.7260      1.5950         5.772    86.22       0.006522   \n",
      "92751        0.3857      1.4280         2.548    19.15       0.007189   \n",
      "\n",
      "          compactness_se  concavity_se  concave points_se  symmetry_se  \\\n",
      "id                                                                       \n",
      "842302           0.04904       0.05373            0.01587      0.03003   \n",
      "842517           0.01308       0.01860            0.01340      0.01389   \n",
      "84300903         0.04006       0.03832            0.02058      0.02250   \n",
      "84348301         0.07458       0.05661            0.01867      0.05963   \n",
      "84358402         0.02461       0.05688            0.01885      0.01756   \n",
      "...                  ...           ...                ...          ...   \n",
      "926424           0.02891       0.05198            0.02454      0.01114   \n",
      "926682           0.02423       0.03950            0.01678      0.01898   \n",
      "926954           0.03731       0.04730            0.01557      0.01318   \n",
      "927241           0.06158       0.07117            0.01664      0.02324   \n",
      "92751            0.00466       0.00000            0.00000      0.02676   \n",
      "\n",
      "          fractal_dimension_se  radius_worst  texture_worst  perimeter_worst  \\\n",
      "id                                                                             \n",
      "842302                0.006193        25.380          17.33           184.60   \n",
      "842517                0.003532        24.990          23.41           158.80   \n",
      "84300903              0.004571        23.570          25.53           152.50   \n",
      "84348301              0.009208        14.910          26.50            98.87   \n",
      "84358402              0.005115        22.540          16.67           152.20   \n",
      "...                        ...           ...            ...              ...   \n",
      "926424                0.004239        25.450          26.40           166.10   \n",
      "926682                0.002498        23.690          38.25           155.00   \n",
      "926954                0.003892        18.980          34.12           126.70   \n",
      "927241                0.006185        25.740          39.42           184.60   \n",
      "92751                 0.002783         9.456          30.37            59.16   \n",
      "\n",
      "          area_worst  smoothness_worst  compactness_worst  concavity_worst  \\\n",
      "id                                                                           \n",
      "842302        2019.0           0.16220            0.66560           0.7119   \n",
      "842517        1956.0           0.12380            0.18660           0.2416   \n",
      "84300903      1709.0           0.14440            0.42450           0.4504   \n",
      "84348301       567.7           0.20980            0.86630           0.6869   \n",
      "84358402      1575.0           0.13740            0.20500           0.4000   \n",
      "...              ...               ...                ...              ...   \n",
      "926424        2027.0           0.14100            0.21130           0.4107   \n",
      "926682        1731.0           0.11660            0.19220           0.3215   \n",
      "926954        1124.0           0.11390            0.30940           0.3403   \n",
      "927241        1821.0           0.16500            0.86810           0.9387   \n",
      "92751          268.6           0.08996            0.06444           0.0000   \n",
      "\n",
      "          concave points_worst  symmetry_worst  fractal_dimension_worst  \n",
      "id                                                                       \n",
      "842302                  0.2654          0.4601                  0.11890  \n",
      "842517                  0.1860          0.2750                  0.08902  \n",
      "84300903                0.2430          0.3613                  0.08758  \n",
      "84348301                0.2575          0.6638                  0.17300  \n",
      "84358402                0.1625          0.2364                  0.07678  \n",
      "...                        ...             ...                      ...  \n",
      "926424                  0.2216          0.2060                  0.07115  \n",
      "926682                  0.1628          0.2572                  0.06637  \n",
      "926954                  0.1418          0.2218                  0.07820  \n",
      "927241                  0.2650          0.4087                  0.12400  \n",
      "92751                   0.0000          0.2871                  0.07039  \n",
      "\n",
      "[569 rows x 31 columns]\n",
      "          radius_mean  texture_mean  perimeter_mean  area_mean  \\\n",
      "id                                                               \n",
      "842302          17.99         10.38          122.80     1001.0   \n",
      "842517          20.57         17.77          132.90     1326.0   \n",
      "84300903        19.69         21.25          130.00     1203.0   \n",
      "84348301        11.42         20.38           77.58      386.1   \n",
      "84358402        20.29         14.34          135.10     1297.0   \n",
      "...               ...           ...             ...        ...   \n",
      "926424          21.56         22.39          142.00     1479.0   \n",
      "926682          20.13         28.25          131.20     1261.0   \n",
      "926954          16.60         28.08          108.30      858.1   \n",
      "927241          20.60         29.33          140.10     1265.0   \n",
      "92751            7.76         24.54           47.92      181.0   \n",
      "\n",
      "          smoothness_mean  compactness_mean  concavity_mean  \\\n",
      "id                                                            \n",
      "842302            0.11840           0.27760         0.30010   \n",
      "842517            0.08474           0.07864         0.08690   \n",
      "84300903          0.10960           0.15990         0.19740   \n",
      "84348301          0.14250           0.28390         0.24140   \n",
      "84358402          0.10030           0.13280         0.19800   \n",
      "...                   ...               ...             ...   \n",
      "926424            0.11100           0.11590         0.24390   \n",
      "926682            0.09780           0.10340         0.14400   \n",
      "926954            0.08455           0.10230         0.09251   \n",
      "927241            0.11780           0.27700         0.35140   \n",
      "92751             0.05263           0.04362         0.00000   \n",
      "\n",
      "          concave points_mean  symmetry_mean  fractal_dimension_mean  \n",
      "id                                                                    \n",
      "842302                0.14710         0.2419                 0.07871  \n",
      "842517                0.07017         0.1812                 0.05667  \n",
      "84300903              0.12790         0.2069                 0.05999  \n",
      "84348301              0.10520         0.2597                 0.09744  \n",
      "84358402              0.10430         0.1809                 0.05883  \n",
      "...                       ...            ...                     ...  \n",
      "926424                0.13890         0.1726                 0.05623  \n",
      "926682                0.09791         0.1752                 0.05533  \n",
      "926954                0.05302         0.1590                 0.05648  \n",
      "927241                0.15200         0.2397                 0.07016  \n",
      "92751                 0.00000         0.1587                 0.05884  \n",
      "\n",
      "[569 rows x 10 columns]\n",
      "id\n",
      "842302      M\n",
      "842517      M\n",
      "84300903    M\n",
      "84348301    M\n",
      "84358402    M\n",
      "           ..\n",
      "926424      M\n",
      "926682      M\n",
      "926954      M\n",
      "927241      M\n",
      "92751       B\n",
      "Name: diagnosis, Length: 569, dtype: object\n"
     ]
    }
   ],
   "source": [
    "df = df.drop('Unnamed: 32', axis=1)\n",
    "\n",
    "cols = ['diagnosis','radius_mean',\n",
    "        'texture_mean', 'perimeter_mean', 'area_mean',\n",
    "        'smoothness_mean', 'compactness_mean',\n",
    "        'concavity_mean', 'concave points_mean', 'symmetry_mean',\n",
    "        'fractal_dimension_mean']\n",
    "\n",
    "print(df)\n",
    "x = df[cols]\n",
    "x = x.drop(\"diagnosis\", axis=1)\n",
    "y = df[\"diagnosis\"]\n",
    "print(x)\n",
    "print(y)"
   ],
   "metadata": {
    "collapsed": false,
    "pycharm": {
     "name": "#%%\n"
    }
   }
  },
  {
   "cell_type": "code",
   "execution_count": 35,
   "outputs": [
    {
     "name": "stdout",
     "output_type": "stream",
     "text": [
      "['B' 'B' 'B' 'B' 'M' 'B' 'M' 'B' 'B']\n",
      "0.9239766081871345\n"
     ]
    },
    {
     "name": "stderr",
     "output_type": "stream",
     "text": [
      "C:\\Users\\sathi\\anaconda3\\envs\\Code\\lib\\site-packages\\sklearn\\linear_model\\_logistic.py:444: ConvergenceWarning: lbfgs failed to converge (status=1):\n",
      "STOP: TOTAL NO. of ITERATIONS REACHED LIMIT.\n",
      "\n",
      "Increase the number of iterations (max_iter) or scale the data as shown in:\n",
      "    https://scikit-learn.org/stable/modules/preprocessing.html\n",
      "Please also refer to the documentation for alternative solver options:\n",
      "    https://scikit-learn.org/stable/modules/linear_model.html#logistic-regression\n",
      "  n_iter_i = _check_optimize_result(\n"
     ]
    }
   ],
   "source": [
    "# logi model\n",
    "X_train, X_test, Y_train, Y_test = train_test_split(x, y, test_size=0.3)\n",
    "logis = LogisticRegression()\n",
    "logis.fit(X_train, Y_train)\n",
    "\n",
    "# Saving model to disk\n",
    "pickle.dump(logis, open('model.pkl','wb'))\n",
    "\n",
    "# Loading model to compare the results\n",
    "model = pickle.load(open('model.pkl','rb'))\n",
    "predictions = model.predict(X_test)\n",
    "print(predictions[1:10])\n",
    "print(model.score(X_test, Y_test))"
   ],
   "metadata": {
    "collapsed": false,
    "pycharm": {
     "name": "#%%\n"
    }
   }
  },
  {
   "cell_type": "code",
   "execution_count": 36,
   "outputs": [
    {
     "name": "stdout",
     "output_type": "stream",
     "text": [
      "              precision    recall  f1-score   support\n",
      "\n",
      "           B       0.93      0.95      0.94       111\n",
      "           M       0.91      0.87      0.89        60\n",
      "\n",
      "    accuracy                           0.92       171\n",
      "   macro avg       0.92      0.91      0.92       171\n",
      "weighted avg       0.92      0.92      0.92       171\n",
      "\n"
     ]
    }
   ],
   "source": [
    "from sklearn.metrics import classification_report\n",
    "print(classification_report(Y_test,predictions))"
   ],
   "metadata": {
    "collapsed": false,
    "pycharm": {
     "name": "#%%\n"
    }
   }
  },
  {
   "cell_type": "code",
   "execution_count": 37,
   "outputs": [
    {
     "name": "stdout",
     "output_type": "stream",
     "text": [
      "['M']\n"
     ]
    },
    {
     "name": "stderr",
     "output_type": "stream",
     "text": [
      "C:\\Users\\sathi\\anaconda3\\envs\\Code\\lib\\site-packages\\sklearn\\base.py:450: UserWarning: X does not have valid feature names, but LogisticRegression was fitted with feature names\n",
      "  warnings.warn(\n"
     ]
    }
   ],
   "source": [
    "print(model.predict([[17.99, 10.38, 122.8, 1001, 0.1184, 0.2776, 0.3001, 0.1471, 0.2419, 0.07871]]))"
   ],
   "metadata": {
    "collapsed": false,
    "pycharm": {
     "name": "#%%\n"
    }
   }
  }
 ],
 "metadata": {
  "kernelspec": {
   "display_name": "Python 3",
   "language": "python",
   "name": "python3"
  },
  "language_info": {
   "codemirror_mode": {
    "name": "ipython",
    "version": 2
   },
   "file_extension": ".py",
   "mimetype": "text/x-python",
   "name": "python",
   "nbconvert_exporter": "python",
   "pygments_lexer": "ipython2",
   "version": "2.7.6"
  }
 },
 "nbformat": 4,
 "nbformat_minor": 0
}